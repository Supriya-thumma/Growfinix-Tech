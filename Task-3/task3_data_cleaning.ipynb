{
  "nbformat": 4,
  "nbformat_minor": 0,
  "metadata": {
    "colab": {
      "provenance": []
    },
    "kernelspec": {
      "name": "python3",
      "display_name": "Python 3"
    },
    "language_info": {
      "name": "python"
    }
  },
  "cells": [
    {
      "cell_type": "markdown",
      "source": [
        "# Task 3: Data Cleaning Practice"
      ],
      "metadata": {
        "id": "9TQOt495kecl"
      }
    },
    {
      "cell_type": "code",
      "execution_count": 1,
      "metadata": {
        "id": "PkZogr6ykPIw"
      },
      "outputs": [],
      "source": [
        "import pandas as pd"
      ]
    },
    {
      "cell_type": "markdown",
      "source": [
        "## Step 1: Load dataset"
      ],
      "metadata": {
        "id": "OIgMIEROkufm"
      }
    },
    {
      "cell_type": "code",
      "source": [
        "df = pd.read_csv('raw_data.csv')"
      ],
      "metadata": {
        "id": "fk0gmnQ8kwY9"
      },
      "execution_count": 2,
      "outputs": []
    },
    {
      "cell_type": "code",
      "source": [
        "# Keep a copy of original data for comparison\n",
        "df_original = df.copy()\n",
        "\n",
        "print(\"=== Original Data ===\")\n",
        "print(df_original)"
      ],
      "metadata": {
        "colab": {
          "base_uri": "https://localhost:8080/"
        },
        "id": "-7KL1qXjni_U",
        "outputId": "31214d58-711a-4757-82bf-af371673fd64"
      },
      "execution_count": 3,
      "outputs": [
        {
          "output_type": "stream",
          "name": "stdout",
          "text": [
            "=== Original Data ===\n",
            "       Name     Age   Score         Joined\n",
            "0     Alice      25      85     2021-05-10\n",
            "1       Bob     NaN      78     2021-06-15\n",
            "2   Charlie      30     NaN     2021-07-01\n",
            "3     David      28      88     2021-05-10\n",
            "4       Eve      27      85  Not Available\n",
            "5       Bob     NaN      78     2021-06-15\n",
            "6     Frank  twenty      90     2021-07-15\n",
            "7     Grace      35     NaN     2021-08-01\n",
            "8    Hannah      40      95     2021-08-10\n",
            "9       Ian      22      60   Invalid Date\n",
            "10     Jack     NaN      70     2021-09-05\n",
            "11    Kelly      29  eighty     2021-09-15\n",
            "12     Liam      33     NaN     2021-09-25\n",
            "13      Mia     NaN      77     2021-10-01\n",
            "14     Noah      31      82     2021-10-10\n"
          ]
        }
      ]
    },
    {
      "cell_type": "markdown",
      "source": [
        "## Step 2: Check for missing data"
      ],
      "metadata": {
        "id": "aLg2tpYkk9GZ"
      }
    },
    {
      "cell_type": "code",
      "source": [
        "print(\"\\n=== Missing Values (Before Cleaning) ===\")\n",
        "print(df_original.isnull().sum())"
      ],
      "metadata": {
        "colab": {
          "base_uri": "https://localhost:8080/"
        },
        "id": "SlN0t6NplBd_",
        "outputId": "13889e07-d93b-4ef6-f202-94704e75dc07"
      },
      "execution_count": 4,
      "outputs": [
        {
          "output_type": "stream",
          "name": "stdout",
          "text": [
            "\n",
            "=== Missing Values (Before Cleaning) ===\n",
            "Name      0\n",
            "Age       4\n",
            "Score     3\n",
            "Joined    0\n",
            "dtype: int64\n"
          ]
        }
      ]
    },
    {
      "cell_type": "markdown",
      "source": [
        "## Step 3: Handle incorrect data types for Age"
      ],
      "metadata": {
        "id": "cvbr6KHmlG8D"
      }
    },
    {
      "cell_type": "code",
      "source": [
        "df['Age'] = pd.to_numeric(df['Age'], errors='coerce')  # Convert non-numeric ages to NaN"
      ],
      "metadata": {
        "id": "FWPaMEPYlLfc"
      },
      "execution_count": 5,
      "outputs": []
    },
    {
      "cell_type": "markdown",
      "source": [
        "## Step 4: Handle incorrect data types for Score"
      ],
      "metadata": {
        "id": "mv1epZIhlPeo"
      }
    },
    {
      "cell_type": "code",
      "source": [
        "df['Score'] = pd.to_numeric(df['Score'], errors='coerce')  # Convert non-numeric scores to NaN"
      ],
      "metadata": {
        "id": "jhz4VR-llS4_"
      },
      "execution_count": 6,
      "outputs": []
    },
    {
      "cell_type": "markdown",
      "source": [
        "## Step 5: Fill missing values with mean"
      ],
      "metadata": {
        "id": "4ZG8NeXAlWru"
      }
    },
    {
      "cell_type": "code",
      "source": [
        "df['Age'].fillna(df['Age'].mean(), inplace=True)\n",
        "df['Score'].fillna(df['Score'].mean(), inplace=True)"
      ],
      "metadata": {
        "colab": {
          "base_uri": "https://localhost:8080/"
        },
        "id": "yfFbkj1Hla72",
        "outputId": "e44c0de1-23b5-4d90-8dd1-401ed66f9b15"
      },
      "execution_count": 7,
      "outputs": [
        {
          "output_type": "stream",
          "name": "stderr",
          "text": [
            "/tmp/ipython-input-2936514023.py:1: FutureWarning: A value is trying to be set on a copy of a DataFrame or Series through chained assignment using an inplace method.\n",
            "The behavior will change in pandas 3.0. This inplace method will never work because the intermediate object on which we are setting values always behaves as a copy.\n",
            "\n",
            "For example, when doing 'df[col].method(value, inplace=True)', try using 'df.method({col: value}, inplace=True)' or df[col] = df[col].method(value) instead, to perform the operation inplace on the original object.\n",
            "\n",
            "\n",
            "  df['Age'].fillna(df['Age'].mean(), inplace=True)\n",
            "/tmp/ipython-input-2936514023.py:2: FutureWarning: A value is trying to be set on a copy of a DataFrame or Series through chained assignment using an inplace method.\n",
            "The behavior will change in pandas 3.0. This inplace method will never work because the intermediate object on which we are setting values always behaves as a copy.\n",
            "\n",
            "For example, when doing 'df[col].method(value, inplace=True)', try using 'df.method({col: value}, inplace=True)' or df[col] = df[col].method(value) instead, to perform the operation inplace on the original object.\n",
            "\n",
            "\n",
            "  df['Score'].fillna(df['Score'].mean(), inplace=True)\n"
          ]
        }
      ]
    },
    {
      "cell_type": "markdown",
      "source": [
        "## Step 6: Fix incorrect Joined date formats"
      ],
      "metadata": {
        "id": "0fzn1iXklk8C"
      }
    },
    {
      "cell_type": "code",
      "source": [
        "df['Joined'] = pd.to_datetime(df['Joined'], errors='coerce')"
      ],
      "metadata": {
        "id": "yyo8xVAKlqwO"
      },
      "execution_count": 8,
      "outputs": []
    },
    {
      "cell_type": "markdown",
      "source": [
        "## Step 7: Remove duplicate rows"
      ],
      "metadata": {
        "id": "Bre2mL6TlwkD"
      }
    },
    {
      "cell_type": "code",
      "source": [
        "df.drop_duplicates(inplace=True)"
      ],
      "metadata": {
        "id": "oVgSBhyMl3vX"
      },
      "execution_count": 9,
      "outputs": []
    },
    {
      "cell_type": "markdown",
      "source": [
        "## Step 8: Summary after cleaning"
      ],
      "metadata": {
        "id": "fH7Xi_vwl9HM"
      }
    },
    {
      "cell_type": "code",
      "source": [
        "print(\"\\n=== Missing Values (After Cleaning) ===\")\n",
        "print(df.isnull().sum())"
      ],
      "metadata": {
        "colab": {
          "base_uri": "https://localhost:8080/"
        },
        "id": "9SPMWQ7JmFKp",
        "outputId": "59099ad5-455e-4764-c38d-55cf6326e5c8"
      },
      "execution_count": 10,
      "outputs": [
        {
          "output_type": "stream",
          "name": "stdout",
          "text": [
            "\n",
            "=== Missing Values (After Cleaning) ===\n",
            "Name      0\n",
            "Age       0\n",
            "Score     0\n",
            "Joined    2\n",
            "dtype: int64\n"
          ]
        }
      ]
    },
    {
      "cell_type": "markdown",
      "source": [
        "## Step 9: Final cleaned data"
      ],
      "metadata": {
        "id": "yWRs87GpmJG1"
      }
    },
    {
      "cell_type": "code",
      "source": [
        "print(\"\\n=== Cleaned Data ===\")\n",
        "print(df)"
      ],
      "metadata": {
        "colab": {
          "base_uri": "https://localhost:8080/"
        },
        "id": "I0ZQozVHmMw6",
        "outputId": "fb38c292-0125-4315-a299-d79685c3cb71"
      },
      "execution_count": 11,
      "outputs": [
        {
          "output_type": "stream",
          "name": "stdout",
          "text": [
            "\n",
            "=== Cleaned Data ===\n",
            "       Name   Age      Score     Joined\n",
            "0     Alice  25.0  85.000000 2021-05-10\n",
            "1       Bob  30.0  78.000000 2021-06-15\n",
            "2   Charlie  30.0  80.727273 2021-07-01\n",
            "3     David  28.0  88.000000 2021-05-10\n",
            "4       Eve  27.0  85.000000        NaT\n",
            "6     Frank  30.0  90.000000 2021-07-15\n",
            "7     Grace  35.0  80.727273 2021-08-01\n",
            "8    Hannah  40.0  95.000000 2021-08-10\n",
            "9       Ian  22.0  60.000000        NaT\n",
            "10     Jack  30.0  70.000000 2021-09-05\n",
            "11    Kelly  29.0  80.727273 2021-09-15\n",
            "12     Liam  33.0  80.727273 2021-09-25\n",
            "13      Mia  30.0  77.000000 2021-10-01\n",
            "14     Noah  31.0  82.000000 2021-10-10\n"
          ]
        }
      ]
    },
    {
      "cell_type": "markdown",
      "source": [
        "## Step 10: Save cleaned dataset"
      ],
      "metadata": {
        "id": "gz4RtL6wmQ8R"
      }
    },
    {
      "cell_type": "code",
      "source": [
        "df.to_csv('cleaned_data.csv', index=False)\n",
        "print(\"\\nCleaned data saved to 'cleaned_data.csv'\")"
      ],
      "metadata": {
        "colab": {
          "base_uri": "https://localhost:8080/"
        },
        "id": "iwL2EytPmUg9",
        "outputId": "53cb4333-8c99-489b-ad43-a02f18713f26"
      },
      "execution_count": 12,
      "outputs": [
        {
          "output_type": "stream",
          "name": "stdout",
          "text": [
            "\n",
            "Cleaned data saved to 'cleaned_data.csv'\n"
          ]
        }
      ]
    },
    {
      "cell_type": "markdown",
      "source": [
        "## Step 11: Before vs After Comparison Table"
      ],
      "metadata": {
        "id": "wKFBwEjsn-dm"
      }
    },
    {
      "cell_type": "code",
      "source": [
        "comparison = pd.DataFrame({\n",
        "    \"Original Rows\": [df_original.shape[0]],\n",
        "    \"Original Missing Values\": [df_original.isnull().sum().sum()],\n",
        "    \"Cleaned Rows\": [df.shape[0]],\n",
        "    \"Cleaned Missing Values\": [df.isnull().sum().sum()]\n",
        "})"
      ],
      "metadata": {
        "id": "9JP46XC2oDMd"
      },
      "execution_count": 13,
      "outputs": []
    },
    {
      "cell_type": "code",
      "source": [
        "print(\"\\n=== Before vs After Summary ===\")\n",
        "print(comparison)"
      ],
      "metadata": {
        "colab": {
          "base_uri": "https://localhost:8080/"
        },
        "id": "nfU-bgOAoJpV",
        "outputId": "6303fd43-356c-4b3c-f3d7-f7332288072f"
      },
      "execution_count": 14,
      "outputs": [
        {
          "output_type": "stream",
          "name": "stdout",
          "text": [
            "\n",
            "=== Before vs After Summary ===\n",
            "   Original Rows  Original Missing Values  Cleaned Rows  \\\n",
            "0             15                        7            14   \n",
            "\n",
            "   Cleaned Missing Values  \n",
            "0                       2  \n"
          ]
        }
      ]
    }
  ]
}